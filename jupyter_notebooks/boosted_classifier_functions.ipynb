{
 "cells": [
  {
   "cell_type": "markdown",
   "id": "610f28b5",
   "metadata": {},
   "source": [
    "# Rank Boosted Classifier on Pancreas Dataset"
   ]
  },
  {
   "cell_type": "code",
   "execution_count": 1,
   "id": "ffa6ec78",
   "metadata": {},
   "outputs": [],
   "source": [
    "import numpy as np\n",
    "import pandas as  pd\n",
    "import scanpy as sc\n",
    "from sklearn.linear_model import LinearRegression"
   ]
  },
  {
   "cell_type": "markdown",
   "id": "110216a7",
   "metadata": {},
   "source": [
    "## Read the data"
   ]
  },
  {
   "cell_type": "code",
   "execution_count": 2,
   "id": "274b69eb",
   "metadata": {},
   "outputs": [
    {
     "data": {
      "text/plain": [
       "AnnData object with n_obs × n_vars = 8569 × 20125\n",
       "    obs: 'celltype'"
      ]
     },
     "execution_count": 2,
     "metadata": {},
     "output_type": "execute_result"
    }
   ],
   "source": [
    "## Read train data\n",
    "adata_train = sc.read('/home/namratab/namratab/TransferLearning/trancellvec/data/pancreas/Bh.h5ad')\n",
    "adata_train"
   ]
  },
  {
   "cell_type": "code",
   "execution_count": 3,
   "id": "3fb0e2b7-50c7-4901-9b6a-8e818a6e4585",
   "metadata": {},
   "outputs": [
    {
     "data": {
      "text/plain": [
       "beta                  2525\n",
       "alpha                 2326\n",
       "ductal                1077\n",
       "acinar                 958\n",
       "delta                  601\n",
       "activated_stellate     284\n",
       "gamma                  255\n",
       "endothelial            252\n",
       "quiescent_stellate     173\n",
       "macrophage              55\n",
       "mast                    25\n",
       "epsilon                 18\n",
       "schwann                 13\n",
       "t_cell                   7\n",
       "Name: celltype, dtype: int64"
      ]
     },
     "execution_count": 3,
     "metadata": {},
     "output_type": "execute_result"
    }
   ],
   "source": [
    "adata_train.obs.celltype.value_counts()"
   ]
  },
  {
   "cell_type": "code",
   "execution_count": 4,
   "id": "7a23a9b2-fc7f-4dc6-b7c7-e37741360a04",
   "metadata": {},
   "outputs": [
    {
     "data": {
      "text/plain": [
       "AnnData object with n_obs × n_vars = 2394 × 34363\n",
       "    obs: 'celltype', 'tech'\n",
       "    var: 'genename'"
      ]
     },
     "execution_count": 4,
     "metadata": {},
     "output_type": "execute_result"
    }
   ],
   "source": [
    "adata_test = sc.read('/home/namratab/namratab/TransferLearning/trancellvec/data/pancreas/smartseq2.h5ad')\n",
    "adata_test"
   ]
  },
  {
   "cell_type": "code",
   "execution_count": 5,
   "id": "1d078fcb-d479-4b0b-a3c5-b5a0439f10e0",
   "metadata": {},
   "outputs": [
    {
     "data": {
      "text/plain": [
       "alpha                 1008\n",
       "ductal                 444\n",
       "beta                   308\n",
       "gamma                  213\n",
       "acinar                 188\n",
       "delta                  127\n",
       "activated_stellate      55\n",
       "endothelial             21\n",
       "epsilon                  8\n",
       "macrophage               7\n",
       "mast                     7\n",
       "quiescent_stellate       6\n",
       "schwann                  2\n",
       "Name: celltype, dtype: int64"
      ]
     },
     "execution_count": 5,
     "metadata": {},
     "output_type": "execute_result"
    }
   ],
   "source": [
    "adata_test.obs.celltype.value_counts()"
   ]
  },
  {
   "cell_type": "code",
   "execution_count": 3,
   "id": "a07a6dad",
   "metadata": {},
   "outputs": [],
   "source": [
    "# To make it into the ideal use-case, use only those label in the train data that are present in the test data\n",
    "minority_classes = ['acinar',\n",
    " 'activated_stellate',\n",
    " 'alpha',\n",
    " 'beta',\n",
    " 'delta',\n",
    " 'ductal',\n",
    " 'endothelial',\n",
    " 'epsilon',\n",
    " 'gamma',\n",
    " 'macrophage',\n",
    " 'mast',\n",
    " 'quiescent_stellate',\n",
    " 'schwann']       # get the minority classes\n",
    "adata_train = adata_train[adata_train.obs.celltype.isin(minority_classes)]"
   ]
  },
  {
   "cell_type": "code",
   "execution_count": 4,
   "id": "9075115e",
   "metadata": {},
   "outputs": [
    {
     "data": {
      "text/plain": [
       "<AxesSubplot:>"
      ]
     },
     "execution_count": 4,
     "metadata": {},
     "output_type": "execute_result"
    },
    {
     "data": {
      "image/png": "[encoded data removed]",
      "text/plain": [
       "<Figure size 432x288 with 1 Axes>"
      ]
     },
     "metadata": {
      "needs_background": "light"
     },
     "output_type": "display_data"
    }
   ],
   "source": [
    "adata_train.obs.celltype.value_counts().plot(kind='bar')"
   ]
  },
  {
   "cell_type": "code",
   "execution_count": 5,
   "id": "ef149a0d",
   "metadata": {},
   "outputs": [
    {
     "data": {
      "text/plain": [
       "AnnData object with n_obs × n_vars = 2394 × 34363\n",
       "    obs: 'celltype', 'tech'\n",
       "    var: 'genename'"
      ]
     },
     "execution_count": 5,
     "metadata": {},
     "output_type": "execute_result"
    }
   ],
   "source": [
    "adata_test = sc.read('/home/namratab/namratab/TransferLearning/trancellvec/data/pancreas/smartseq2.h5ad')\n",
    "adata_test"
   ]
  },
  {
   "cell_type": "code",
   "execution_count": null,
   "id": "9be596ab-af85-42f7-8ab4-71e9d68eea1c",
   "metadata": {},
   "outputs": [],
   "source": []
  },
  {
   "cell_type": "code",
   "execution_count": 12,
   "id": "08fae72f",
   "metadata": {},
   "outputs": [
    {
     "data": {
      "text/plain": [
       "<AxesSubplot:>"
      ]
     },
     "execution_count": 12,
     "metadata": {},
     "output_type": "execute_result"
    },
    {
     "data": {
      "image/png": "[encoded data removed]",
      "text/plain": [
       "<Figure size 432x288 with 1 Axes>"
      ]
     },
     "metadata": {
      "needs_background": "light"
     },
     "output_type": "display_data"
    }
   ],
   "source": [
    "adata_test.obs.celltype.value_counts().plot(kind='bar')"
   ]
  },
  {
   "cell_type": "code",
   "execution_count": 13,
   "id": "65e667eb",
   "metadata": {},
   "outputs": [
    {
     "data": {
      "text/plain": [
       "((2394, 34363), (8562, 20125))"
      ]
     },
     "execution_count": 13,
     "metadata": {},
     "output_type": "execute_result"
    }
   ],
   "source": [
    "adata_test.shape, adata_train.shape"
   ]
  },
  {
   "cell_type": "markdown",
   "id": "ef9787bd",
   "metadata": {},
   "source": [
    "## Taking common genes before preprocessing"
   ]
  },
  {
   "cell_type": "code",
   "execution_count": 14,
   "id": "5f90b293",
   "metadata": {},
   "outputs": [
    {
     "name": "stderr",
     "output_type": "stream",
     "text": [
      "/home/namratab/.local/lib/python3.9/site-packages/anndata/_core/anndata.py:1785: FutureWarning: X.dtype being converted to np.float32 from float64. In the next version of anndata (0.9) conversion will not be automatic. Pass dtype explicitly to avoid this warning. Pass `AnnData(X, dtype=X.dtype, ...)` to get the future behavour.\n",
      "  [AnnData(sparse.csr_matrix(a.shape), obs=a.obs) for a in all_adatas],\n"
     ]
    },
    {
     "data": {
      "text/plain": [
       "AnnData object with n_obs × n_vars = 10956 × 19612\n",
       "    obs: 'celltype', 'tech', 'batch'\n",
       "    var: 'genename-test'"
      ]
     },
     "execution_count": 14,
     "metadata": {},
     "output_type": "execute_result"
    }
   ],
   "source": [
    "adata_concat = adata_train.concatenate(adata_test,batch_key='batch', batch_categories= ['train','test'])\n",
    "adata_concat"
   ]
  },
  {
   "cell_type": "markdown",
   "id": "d617fb38",
   "metadata": {},
   "source": [
    "## Pre-processing"
   ]
  },
  {
   "cell_type": "code",
   "execution_count": 15,
   "id": "5da63385",
   "metadata": {},
   "outputs": [
    {
     "name": "stderr",
     "output_type": "stream",
     "text": [
      "/home/namratab/anaconda3/lib/python3.9/site-packages/scanpy/preprocessing/_simple.py:843: UserWarning: Received a view of an AnnData. Making a copy.\n",
      "  view_to_actual(adata)\n"
     ]
    },
    {
     "data": {
      "text/plain": [
       "(2394, 3000)"
      ]
     },
     "execution_count": 15,
     "metadata": {},
     "output_type": "execute_result"
    }
   ],
   "source": [
    "# Preprocess the test data\n",
    "adata_test.obs_names_make_unique()\n",
    "adata_test.var_names_make_unique()\n",
    "sc.pp.filter_cells(adata_test, min_genes=200)\n",
    "sc.pp.filter_genes(adata_test, min_cells=20)\n",
    "sc.pp.normalize_total(adata_test, target_sum=1e4)\n",
    "sc.pp.log1p(adata_test)\n",
    "sc.pp.highly_variable_genes(adata_test, n_top_genes = 3000)\n",
    "adata_test = adata_test[:, adata_test.var.highly_variable]\n",
    "sc.pp.scale(adata_test, max_value=10)\n",
    "adata_test.shape"
   ]
  },
  {
   "cell_type": "code",
   "execution_count": 16,
   "id": "7562c721",
   "metadata": {},
   "outputs": [
    {
     "name": "stderr",
     "output_type": "stream",
     "text": [
      "/home/namratab/anaconda3/lib/python3.9/site-packages/scanpy/preprocessing/_simple.py:843: UserWarning: Received a view of an AnnData. Making a copy.\n",
      "  view_to_actual(adata)\n"
     ]
    },
    {
     "data": {
      "text/plain": [
       "(8562, 3000)"
      ]
     },
     "execution_count": 16,
     "metadata": {},
     "output_type": "execute_result"
    }
   ],
   "source": [
    "# Preprocess the train data\n",
    "adata_train.obs_names_make_unique()\n",
    "adata_train.var_names_make_unique()\n",
    "sc.pp.filter_cells(adata_train, min_genes=200)\n",
    "sc.pp.filter_genes(adata_train, min_cells=20)\n",
    "sc.pp.normalize_total(adata_train, target_sum=1e4)\n",
    "sc.pp.log1p(adata_train)\n",
    "sc.pp.highly_variable_genes(adata_train, n_top_genes = 3000)\n",
    "adata_train = adata_train[:, adata_train.var.highly_variable]\n",
    "sc.pp.scale(adata_train, max_value=10)\n",
    "adata_train.shape"
   ]
  },
  {
   "cell_type": "code",
   "execution_count": 17,
   "id": "a4c0dd06-b70c-41c5-b9c9-af10a61e01b7",
   "metadata": {},
   "outputs": [
    {
     "name": "stderr",
     "output_type": "stream",
     "text": [
      "/home/namratab/.local/lib/python3.9/site-packages/anndata/_core/anndata.py:1785: FutureWarning: X.dtype being converted to np.float32 from float64. In the next version of anndata (0.9) conversion will not be automatic. Pass dtype explicitly to avoid this warning. Pass `AnnData(X, dtype=X.dtype, ...)` to get the future behavour.\n",
      "  [AnnData(sparse.csr_matrix(a.shape), obs=a.obs) for a in all_adatas],\n"
     ]
    },
    {
     "data": {
      "text/plain": [
       "AnnData object with n_obs × n_vars = 10956 × 1550\n",
       "    obs: 'celltype', 'n_genes', 'tech', 'batch'\n",
       "    var: 'highly_variable', 'n_cells-test', 'means-test', 'dispersions-test', 'dispersions_norm-test', 'mean-test', 'std-test', 'genename-test', 'n_cells-train', 'means-train', 'dispersions-train', 'dispersions_norm-train', 'mean-train', 'std-train'"
      ]
     },
     "execution_count": 17,
     "metadata": {},
     "output_type": "execute_result"
    }
   ],
   "source": [
    "## Taking common genes after preprocessing\n",
    "adata_concat = adata_train.concatenate(adata_test,batch_key='batch', batch_categories= ['train','test'])\n",
    "adata_concat"
   ]
  },
  {
   "cell_type": "markdown",
   "id": "592a15f1-97af-4f88-a6c3-9eada3cdb3bf",
   "metadata": {},
   "source": [
    "*** \n",
    "## Get DE genes"
   ]
  },
  {
   "cell_type": "code",
   "execution_count": 75,
   "id": "d5ebbf05-5772-406c-bd5a-5faff33933f7",
   "metadata": {},
   "outputs": [
    {
     "name": "stderr",
     "output_type": "stream",
     "text": [
      "/home/namratab/.local/lib/python3.9/site-packages/scanpy/tools/_rank_genes_groups.py:420: RuntimeWarning: invalid value encountered in log2\n",
      "  self.stats[group_name, 'logfoldchanges'] = np.log2(\n",
      "/home/namratab/.local/lib/python3.9/site-packages/scanpy/tools/_rank_genes_groups.py:420: RuntimeWarning: invalid value encountered in log2\n",
      "  self.stats[group_name, 'logfoldchanges'] = np.log2(\n",
      "/home/namratab/.local/lib/python3.9/site-packages/scanpy/tools/_rank_genes_groups.py:420: RuntimeWarning: invalid value encountered in log2\n",
      "  self.stats[group_name, 'logfoldchanges'] = np.log2(\n",
      "/home/namratab/.local/lib/python3.9/site-packages/scanpy/tools/_rank_genes_groups.py:420: RuntimeWarning: invalid value encountered in log2\n",
      "  self.stats[group_name, 'logfoldchanges'] = np.log2(\n",
      "/home/namratab/.local/lib/python3.9/site-packages/scanpy/tools/_rank_genes_groups.py:420: RuntimeWarning: invalid value encountered in log2\n",
      "  self.stats[group_name, 'logfoldchanges'] = np.log2(\n",
      "/home/namratab/.local/lib/python3.9/site-packages/scanpy/tools/_rank_genes_groups.py:420: RuntimeWarning: invalid value encountered in log2\n",
      "  self.stats[group_name, 'logfoldchanges'] = np.log2(\n",
      "/home/namratab/.local/lib/python3.9/site-packages/scanpy/tools/_rank_genes_groups.py:420: RuntimeWarning: invalid value encountered in log2\n",
      "  self.stats[group_name, 'logfoldchanges'] = np.log2(\n",
      "/home/namratab/.local/lib/python3.9/site-packages/scanpy/tools/_rank_genes_groups.py:420: RuntimeWarning: invalid value encountered in log2\n",
      "  self.stats[group_name, 'logfoldchanges'] = np.log2(\n",
      "/home/namratab/.local/lib/python3.9/site-packages/scanpy/tools/_rank_genes_groups.py:420: RuntimeWarning: invalid value encountered in log2\n",
      "  self.stats[group_name, 'logfoldchanges'] = np.log2(\n",
      "/home/namratab/.local/lib/python3.9/site-packages/scanpy/tools/_rank_genes_groups.py:420: RuntimeWarning: invalid value encountered in log2\n",
      "  self.stats[group_name, 'logfoldchanges'] = np.log2(\n",
      "/home/namratab/.local/lib/python3.9/site-packages/scanpy/tools/_rank_genes_groups.py:420: RuntimeWarning: invalid value encountered in log2\n",
      "  self.stats[group_name, 'logfoldchanges'] = np.log2(\n",
      "/home/namratab/.local/lib/python3.9/site-packages/scanpy/tools/_rank_genes_groups.py:420: RuntimeWarning: invalid value encountered in log2\n",
      "  self.stats[group_name, 'logfoldchanges'] = np.log2(\n",
      "/home/namratab/.local/lib/python3.9/site-packages/scanpy/tools/_rank_genes_groups.py:420: RuntimeWarning: invalid value encountered in log2\n",
      "  self.stats[group_name, 'logfoldchanges'] = np.log2(\n"
     ]
    }
   ],
   "source": [
    "sc.tl.rank_genes_groups(adata_train, groupby=\"celltype\", method='wilcoxon')\n",
    "celltypes_list = adata_train.obs.celltype.unique().tolist()\n",
    "top_50_DE_genes = {c: [] for c in celltypes_list}\n",
    "for c in top_50_DE_genes:\n",
    "        detrain_df = sc.get.rank_genes_groups_df(adata_train, group=c).head(50)\n",
    "        top_50_DE_genes[c] = detrain_df['names'].tolist()"
   ]
  },
  {
   "cell_type": "markdown",
   "id": "c903ea36",
   "metadata": {},
   "source": [
    "<hline>"
   ]
  },
  {
   "cell_type": "markdown",
   "id": "8ff3c909-fc6f-487f-8fb4-41fcbddd3b8f",
   "metadata": {},
   "source": [
    "***\n",
    "## Dropout induction"
   ]
  },
  {
   "cell_type": "code",
   "execution_count": 76,
   "id": "fd9d1566-c709-4224-8ca7-27b3093cfe2c",
   "metadata": {},
   "outputs": [],
   "source": [
    "def fit_regression(E, D):\n",
    "        clf = LinearRegression()\n",
    "        if (np.sum(np.isnan(E)) > 1):\n",
    "                print(\"Error\")\n",
    "                return 1, 0\n",
    "        if (np.sum(np.isnan(D)) > 1):\n",
    "                print(\"Error2\")\n",
    "                return 1, 0\n",
    "        clf.fit(np.reshape(E, (E.shape[0], 1)), D)\n",
    "        return (clf.coef_, clf.intercept_)\n",
    "\n",
    "def calc_dropout(df):\n",
    "        pg = []\n",
    "        for col in df:\n",
    "                pg.append(np.sum(df[col] == 0)/len(df))\n",
    "        pg = np.array(pg)\n",
    "        return pg\n",
    "\n",
    "def get_prob_of_less_than(val, k):\n",
    "        if np.random.random() < k:\n",
    "                return 0\n",
    "        else:\n",
    "                return val\n",
    "        \n",
    "def inductive_dropout(df, f=0.5):\n",
    "        p_g = calc_dropout(df)\n",
    "        p_g[p_g <= 0] = 1e-6\n",
    "        p_g[p_g >= 1] = 1 - 1e-6\n",
    "        D_g = np.log(p_g/(1-p_g))\n",
    "        R_g = np.array([df[col].mean() for col in list(df.columns)])\n",
    "        E_g = np.log2(R_g + 1)\n",
    "        beta, alpha = fit_regression(E_g, D_g)\n",
    "\n",
    "        E_g_prime = f * E_g\n",
    "        delta_g = beta*(E_g_prime - E_g)\n",
    "        D_g_prime = D_g + delta_g\n",
    "\n",
    "        p_g_prime = 1/ (1 + np.exp(-1*D_g_prime))\n",
    "        R_g_prime = np.power(2, E_g_prime) - 1\n",
    "\n",
    "        for i in range(len(df.columns)):\n",
    "                df[df.columns[i]] = df[df.columns[i]].apply(lambda x : get_prob_of_less_than(x, p_g_prime[i]-p_g[i]))\n",
    "                R_g_i = np.mean(df[df.columns[i]])\n",
    "#               df[df.columns[i]] += R_g_i - R_g_prime[i]\n",
    "                df[df.columns[i]] *= (R_g_prime[i]/(R_g_i + 1e-4))\n",
    "        return df  \n",
    "    \n",
    "def apply_dropout(data, celltypes, n_iter = 1, f = 0.8):\n",
    "        \"\"\"\n",
    "        INPUT:\n",
    "                data: dataframe containing cell-gene expression matrix\n",
    "                n_iter: no of times to apply dropout\n",
    "                f: dropout concentration\n",
    "        \"\"\"\n",
    "        new_df = pd.DataFrame()\n",
    "        celltypes = celltypes.tolist()\n",
    "        new_celltypes = celltypes*(n_iter)\n",
    "        for i in range(n_iter):\n",
    "                data = inductive_dropout(data.copy(), f)\n",
    "                new_df = pd.concat((new_df, data))\n",
    "        new_df['celltype'] = new_celltypes\n",
    "        return new_df"
   ]
  },
  {
   "cell_type": "code",
   "execution_count": 77,
   "id": "f7670b52-0b95-491f-9a21-5c1b89e0af4d",
   "metadata": {},
   "outputs": [
    {
     "name": "stderr",
     "output_type": "stream",
     "text": [
      "/tmp/ipykernel_1170208/399686921.py:61: PerformanceWarning: DataFrame is highly fragmented.  This is usually the result of calling `frame.insert` many times, which has poor performance.  Consider joining all columns at once using pd.concat(axis=1) instead. To get a de-fragmented frame, use `newframe = frame.copy()`\n",
      "  new_df['celltype'] = new_celltypes\n"
     ]
    },
    {
     "data": {
      "text/html": [
       "<div>\n",
       "<style scoped>\n",
       "    .dataframe tbody tr th:only-of-type {\n",
       "        vertical-align: middle;\n",
       "    }\n",
       "\n",
       "    .dataframe tbody tr th {\n",
       "        vertical-align: top;\n",
       "    }\n",
       "\n",
       "    .dataframe thead th {\n",
       "        text-align: right;\n",
       "    }\n",
       "</style>\n",
       "<table border=\"1\" class=\"dataframe\">\n",
       "  <thead>\n",
       "    <tr style=\"text-align: right;\">\n",
       "      <th>index</th>\n",
       "      <th>A2M</th>\n",
       "      <th>A4GALT</th>\n",
       "      <th>AAAS</th>\n",
       "      <th>AADAC</th>\n",
       "      <th>AATK</th>\n",
       "      <th>ABCA4</th>\n",
       "      <th>ABCA8</th>\n",
       "      <th>ABCB1</th>\n",
       "      <th>ABCC3</th>\n",
       "      <th>ABCC8</th>\n",
       "      <th>...</th>\n",
       "      <th>ZNF682</th>\n",
       "      <th>ZNF684</th>\n",
       "      <th>ZNF70</th>\n",
       "      <th>ZNF703</th>\n",
       "      <th>ZSCAN9</th>\n",
       "      <th>ZSWIM3</th>\n",
       "      <th>ZSWIM4</th>\n",
       "      <th>ZYX</th>\n",
       "      <th>pk</th>\n",
       "      <th>celltype</th>\n",
       "    </tr>\n",
       "    <tr>\n",
       "      <th>index</th>\n",
       "      <th></th>\n",
       "      <th></th>\n",
       "      <th></th>\n",
       "      <th></th>\n",
       "      <th></th>\n",
       "      <th></th>\n",
       "      <th></th>\n",
       "      <th></th>\n",
       "      <th></th>\n",
       "      <th></th>\n",
       "      <th></th>\n",
       "      <th></th>\n",
       "      <th></th>\n",
       "      <th></th>\n",
       "      <th></th>\n",
       "      <th></th>\n",
       "      <th></th>\n",
       "      <th></th>\n",
       "      <th></th>\n",
       "      <th></th>\n",
       "      <th></th>\n",
       "    </tr>\n",
       "  </thead>\n",
       "  <tbody>\n",
       "    <tr>\n",
       "      <th>human1_lib1.final_cell_0001</th>\n",
       "      <td>-0.173396</td>\n",
       "      <td>0.003597</td>\n",
       "      <td>2.157673e-03</td>\n",
       "      <td>8.022643e-02</td>\n",
       "      <td>-4.655789e-04</td>\n",
       "      <td>-0.041929</td>\n",
       "      <td>-0.048585</td>\n",
       "      <td>-1.101480e-03</td>\n",
       "      <td>7.163140e-03</td>\n",
       "      <td>-4.752388e-03</td>\n",
       "      <td>...</td>\n",
       "      <td>-0.081127</td>\n",
       "      <td>-0.063867</td>\n",
       "      <td>-0.074535</td>\n",
       "      <td>3.519431e-04</td>\n",
       "      <td>-0.187416</td>\n",
       "      <td>2.352397</td>\n",
       "      <td>-1.035320</td>\n",
       "      <td>1.158862e-02</td>\n",
       "      <td>-8.894734e-03</td>\n",
       "      <td>acinar</td>\n",
       "    </tr>\n",
       "    <tr>\n",
       "      <th>human1_lib1.final_cell_0002</th>\n",
       "      <td>-0.173396</td>\n",
       "      <td>0.003597</td>\n",
       "      <td>2.157673e-03</td>\n",
       "      <td>8.334260e-02</td>\n",
       "      <td>-4.655789e-04</td>\n",
       "      <td>-0.041929</td>\n",
       "      <td>-0.048585</td>\n",
       "      <td>-1.101480e-03</td>\n",
       "      <td>7.163140e-03</td>\n",
       "      <td>-9.928713e-03</td>\n",
       "      <td>...</td>\n",
       "      <td>-0.081127</td>\n",
       "      <td>-0.063867</td>\n",
       "      <td>-0.074535</td>\n",
       "      <td>3.519431e-04</td>\n",
       "      <td>-0.187416</td>\n",
       "      <td>-0.089492</td>\n",
       "      <td>-1.035320</td>\n",
       "      <td>2.523700e-02</td>\n",
       "      <td>6.985599e-03</td>\n",
       "      <td>acinar</td>\n",
       "    </tr>\n",
       "    <tr>\n",
       "      <th>human1_lib1.final_cell_0003</th>\n",
       "      <td>-0.173396</td>\n",
       "      <td>0.003597</td>\n",
       "      <td>2.157673e-03</td>\n",
       "      <td>-4.170295e-03</td>\n",
       "      <td>-4.655789e-04</td>\n",
       "      <td>-0.041929</td>\n",
       "      <td>-0.048585</td>\n",
       "      <td>-1.101480e-03</td>\n",
       "      <td>7.163140e-03</td>\n",
       "      <td>-9.928713e-03</td>\n",
       "      <td>...</td>\n",
       "      <td>-0.081127</td>\n",
       "      <td>-0.063867</td>\n",
       "      <td>-0.074535</td>\n",
       "      <td>3.519431e-04</td>\n",
       "      <td>-0.187416</td>\n",
       "      <td>-0.089492</td>\n",
       "      <td>-1.035320</td>\n",
       "      <td>-2.328602e-02</td>\n",
       "      <td>6.985599e-03</td>\n",
       "      <td>acinar</td>\n",
       "    </tr>\n",
       "    <tr>\n",
       "      <th>human1_lib1.final_cell_0004</th>\n",
       "      <td>-0.173396</td>\n",
       "      <td>0.003597</td>\n",
       "      <td>-3.458773e-03</td>\n",
       "      <td>-4.170295e-03</td>\n",
       "      <td>-4.655789e-04</td>\n",
       "      <td>-0.041929</td>\n",
       "      <td>-0.048585</td>\n",
       "      <td>-1.101480e-03</td>\n",
       "      <td>-3.814730e-02</td>\n",
       "      <td>-9.928713e-03</td>\n",
       "      <td>...</td>\n",
       "      <td>-0.081127</td>\n",
       "      <td>-0.063867</td>\n",
       "      <td>-0.074535</td>\n",
       "      <td>3.519431e-04</td>\n",
       "      <td>-0.187416</td>\n",
       "      <td>-0.089492</td>\n",
       "      <td>-1.035320</td>\n",
       "      <td>2.794344e-02</td>\n",
       "      <td>6.985599e-03</td>\n",
       "      <td>acinar</td>\n",
       "    </tr>\n",
       "    <tr>\n",
       "      <th>human1_lib1.final_cell_0005</th>\n",
       "      <td>-0.173396</td>\n",
       "      <td>0.003597</td>\n",
       "      <td>2.157673e-03</td>\n",
       "      <td>-4.170295e-03</td>\n",
       "      <td>-4.655789e-04</td>\n",
       "      <td>-0.041929</td>\n",
       "      <td>-0.048585</td>\n",
       "      <td>-1.101480e-03</td>\n",
       "      <td>-2.527270e-02</td>\n",
       "      <td>-9.928713e-03</td>\n",
       "      <td>...</td>\n",
       "      <td>-0.081127</td>\n",
       "      <td>-0.063867</td>\n",
       "      <td>-0.074535</td>\n",
       "      <td>3.519431e-04</td>\n",
       "      <td>-0.187416</td>\n",
       "      <td>-0.089492</td>\n",
       "      <td>-1.035320</td>\n",
       "      <td>4.522201e-03</td>\n",
       "      <td>-1.490352e-02</td>\n",
       "      <td>acinar</td>\n",
       "    </tr>\n",
       "    <tr>\n",
       "      <th>...</th>\n",
       "      <td>...</td>\n",
       "      <td>...</td>\n",
       "      <td>...</td>\n",
       "      <td>...</td>\n",
       "      <td>...</td>\n",
       "      <td>...</td>\n",
       "      <td>...</td>\n",
       "      <td>...</td>\n",
       "      <td>...</td>\n",
       "      <td>...</td>\n",
       "      <td>...</td>\n",
       "      <td>...</td>\n",
       "      <td>...</td>\n",
       "      <td>...</td>\n",
       "      <td>...</td>\n",
       "      <td>...</td>\n",
       "      <td>...</td>\n",
       "      <td>...</td>\n",
       "      <td>...</td>\n",
       "      <td>...</td>\n",
       "      <td>...</td>\n",
       "    </tr>\n",
       "    <tr>\n",
       "      <th>human4_lib3.final_cell_0697</th>\n",
       "      <td>6.843541</td>\n",
       "      <td>0.000001</td>\n",
       "      <td>5.213129e-10</td>\n",
       "      <td>-1.147757e-08</td>\n",
       "      <td>2.670029e-11</td>\n",
       "      <td>-0.035877</td>\n",
       "      <td>-0.041588</td>\n",
       "      <td>3.236864e-11</td>\n",
       "      <td>-1.480481e-08</td>\n",
       "      <td>8.016999e-09</td>\n",
       "      <td>...</td>\n",
       "      <td>-0.069728</td>\n",
       "      <td>-0.054738</td>\n",
       "      <td>-0.064002</td>\n",
       "      <td>-4.045713e-11</td>\n",
       "      <td>-0.180980</td>\n",
       "      <td>-0.077062</td>\n",
       "      <td>-1.072935</td>\n",
       "      <td>-1.802914e-09</td>\n",
       "      <td>-3.161529e-08</td>\n",
       "      <td>activated_stellate</td>\n",
       "    </tr>\n",
       "    <tr>\n",
       "      <th>human4_lib3.final_cell_0698</th>\n",
       "      <td>-0.176349</td>\n",
       "      <td>0.000001</td>\n",
       "      <td>5.213129e-10</td>\n",
       "      <td>-1.147757e-08</td>\n",
       "      <td>2.670029e-11</td>\n",
       "      <td>-0.035877</td>\n",
       "      <td>-0.041588</td>\n",
       "      <td>3.236864e-11</td>\n",
       "      <td>-1.480481e-08</td>\n",
       "      <td>8.016999e-09</td>\n",
       "      <td>...</td>\n",
       "      <td>-0.069728</td>\n",
       "      <td>-0.054738</td>\n",
       "      <td>-0.064002</td>\n",
       "      <td>-4.045713e-11</td>\n",
       "      <td>-0.180980</td>\n",
       "      <td>-0.077062</td>\n",
       "      <td>-1.072935</td>\n",
       "      <td>-1.802914e-09</td>\n",
       "      <td>-3.161529e-08</td>\n",
       "      <td>alpha</td>\n",
       "    </tr>\n",
       "    <tr>\n",
       "      <th>human4_lib3.final_cell_0699</th>\n",
       "      <td>-0.176349</td>\n",
       "      <td>0.000001</td>\n",
       "      <td>5.213129e-10</td>\n",
       "      <td>-1.147757e-08</td>\n",
       "      <td>2.670029e-11</td>\n",
       "      <td>-0.035877</td>\n",
       "      <td>-0.041588</td>\n",
       "      <td>3.236864e-11</td>\n",
       "      <td>-1.480481e-08</td>\n",
       "      <td>8.016999e-09</td>\n",
       "      <td>...</td>\n",
       "      <td>-0.069728</td>\n",
       "      <td>-0.054738</td>\n",
       "      <td>-0.064002</td>\n",
       "      <td>-4.045713e-11</td>\n",
       "      <td>-0.180980</td>\n",
       "      <td>-0.077062</td>\n",
       "      <td>-1.072935</td>\n",
       "      <td>-1.802914e-09</td>\n",
       "      <td>-3.161529e-08</td>\n",
       "      <td>beta</td>\n",
       "    </tr>\n",
       "    <tr>\n",
       "      <th>human4_lib3.final_cell_0700</th>\n",
       "      <td>-0.176349</td>\n",
       "      <td>0.000001</td>\n",
       "      <td>5.213129e-10</td>\n",
       "      <td>-1.147757e-08</td>\n",
       "      <td>2.670029e-11</td>\n",
       "      <td>-0.035877</td>\n",
       "      <td>-0.041588</td>\n",
       "      <td>3.236864e-11</td>\n",
       "      <td>-1.480481e-08</td>\n",
       "      <td>8.016999e-09</td>\n",
       "      <td>...</td>\n",
       "      <td>-0.069728</td>\n",
       "      <td>-0.054738</td>\n",
       "      <td>-0.064002</td>\n",
       "      <td>-4.045713e-11</td>\n",
       "      <td>-0.180980</td>\n",
       "      <td>-0.077062</td>\n",
       "      <td>-1.072935</td>\n",
       "      <td>-1.802914e-09</td>\n",
       "      <td>-3.161529e-08</td>\n",
       "      <td>beta</td>\n",
       "    </tr>\n",
       "    <tr>\n",
       "      <th>human4_lib3.final_cell_0701</th>\n",
       "      <td>-0.176349</td>\n",
       "      <td>0.000001</td>\n",
       "      <td>5.213129e-10</td>\n",
       "      <td>-1.147757e-08</td>\n",
       "      <td>2.670029e-11</td>\n",
       "      <td>-0.035877</td>\n",
       "      <td>-0.041588</td>\n",
       "      <td>3.236864e-11</td>\n",
       "      <td>-1.480481e-08</td>\n",
       "      <td>8.016999e-09</td>\n",
       "      <td>...</td>\n",
       "      <td>-0.069728</td>\n",
       "      <td>-0.054738</td>\n",
       "      <td>-0.064002</td>\n",
       "      <td>-4.045713e-11</td>\n",
       "      <td>-0.180980</td>\n",
       "      <td>-0.077062</td>\n",
       "      <td>-1.072935</td>\n",
       "      <td>-1.802914e-09</td>\n",
       "      <td>-3.161529e-08</td>\n",
       "      <td>ductal</td>\n",
       "    </tr>\n",
       "  </tbody>\n",
       "</table>\n",
       "<p>17124 rows × 3001 columns</p>\n",
       "</div>"
      ],
      "text/plain": [
       "index                             A2M    A4GALT          AAAS         AADAC  \\\n",
       "index                                                                         \n",
       "human1_lib1.final_cell_0001 -0.173396  0.003597  2.157673e-03  8.022643e-02   \n",
       "human1_lib1.final_cell_0002 -0.173396  0.003597  2.157673e-03  8.334260e-02   \n",
       "human1_lib1.final_cell_0003 -0.173396  0.003597  2.157673e-03 -4.170295e-03   \n",
       "human1_lib1.final_cell_0004 -0.173396  0.003597 -3.458773e-03 -4.170295e-03   \n",
       "human1_lib1.final_cell_0005 -0.173396  0.003597  2.157673e-03 -4.170295e-03   \n",
       "...                               ...       ...           ...           ...   \n",
       "human4_lib3.final_cell_0697  6.843541  0.000001  5.213129e-10 -1.147757e-08   \n",
       "human4_lib3.final_cell_0698 -0.176349  0.000001  5.213129e-10 -1.147757e-08   \n",
       "human4_lib3.final_cell_0699 -0.176349  0.000001  5.213129e-10 -1.147757e-08   \n",
       "human4_lib3.final_cell_0700 -0.176349  0.000001  5.213129e-10 -1.147757e-08   \n",
       "human4_lib3.final_cell_0701 -0.176349  0.000001  5.213129e-10 -1.147757e-08   \n",
       "\n",
       "index                                AATK     ABCA4     ABCA8         ABCB1  \\\n",
       "index                                                                         \n",
       "human1_lib1.final_cell_0001 -4.655789e-04 -0.041929 -0.048585 -1.101480e-03   \n",
       "human1_lib1.final_cell_0002 -4.655789e-04 -0.041929 -0.048585 -1.101480e-03   \n",
       "human1_lib1.final_cell_0003 -4.655789e-04 -0.041929 -0.048585 -1.101480e-03   \n",
       "human1_lib1.final_cell_0004 -4.655789e-04 -0.041929 -0.048585 -1.101480e-03   \n",
       "human1_lib1.final_cell_0005 -4.655789e-04 -0.041929 -0.048585 -1.101480e-03   \n",
       "...                                   ...       ...       ...           ...   \n",
       "human4_lib3.final_cell_0697  2.670029e-11 -0.035877 -0.041588  3.236864e-11   \n",
       "human4_lib3.final_cell_0698  2.670029e-11 -0.035877 -0.041588  3.236864e-11   \n",
       "human4_lib3.final_cell_0699  2.670029e-11 -0.035877 -0.041588  3.236864e-11   \n",
       "human4_lib3.final_cell_0700  2.670029e-11 -0.035877 -0.041588  3.236864e-11   \n",
       "human4_lib3.final_cell_0701  2.670029e-11 -0.035877 -0.041588  3.236864e-11   \n",
       "\n",
       "index                               ABCC3         ABCC8  ...    ZNF682  \\\n",
       "index                                                    ...             \n",
       "human1_lib1.final_cell_0001  7.163140e-03 -4.752388e-03  ... -0.081127   \n",
       "human1_lib1.final_cell_0002  7.163140e-03 -9.928713e-03  ... -0.081127   \n",
       "human1_lib1.final_cell_0003  7.163140e-03 -9.928713e-03  ... -0.081127   \n",
       "human1_lib1.final_cell_0004 -3.814730e-02 -9.928713e-03  ... -0.081127   \n",
       "human1_lib1.final_cell_0005 -2.527270e-02 -9.928713e-03  ... -0.081127   \n",
       "...                                   ...           ...  ...       ...   \n",
       "human4_lib3.final_cell_0697 -1.480481e-08  8.016999e-09  ... -0.069728   \n",
       "human4_lib3.final_cell_0698 -1.480481e-08  8.016999e-09  ... -0.069728   \n",
       "human4_lib3.final_cell_0699 -1.480481e-08  8.016999e-09  ... -0.069728   \n",
       "human4_lib3.final_cell_0700 -1.480481e-08  8.016999e-09  ... -0.069728   \n",
       "human4_lib3.final_cell_0701 -1.480481e-08  8.016999e-09  ... -0.069728   \n",
       "\n",
       "index                          ZNF684     ZNF70        ZNF703    ZSCAN9  \\\n",
       "index                                                                     \n",
       "human1_lib1.final_cell_0001 -0.063867 -0.074535  3.519431e-04 -0.187416   \n",
       "human1_lib1.final_cell_0002 -0.063867 -0.074535  3.519431e-04 -0.187416   \n",
       "human1_lib1.final_cell_0003 -0.063867 -0.074535  3.519431e-04 -0.187416   \n",
       "human1_lib1.final_cell_0004 -0.063867 -0.074535  3.519431e-04 -0.187416   \n",
       "human1_lib1.final_cell_0005 -0.063867 -0.074535  3.519431e-04 -0.187416   \n",
       "...                               ...       ...           ...       ...   \n",
       "human4_lib3.final_cell_0697 -0.054738 -0.064002 -4.045713e-11 -0.180980   \n",
       "human4_lib3.final_cell_0698 -0.054738 -0.064002 -4.045713e-11 -0.180980   \n",
       "human4_lib3.final_cell_0699 -0.054738 -0.064002 -4.045713e-11 -0.180980   \n",
       "human4_lib3.final_cell_0700 -0.054738 -0.064002 -4.045713e-11 -0.180980   \n",
       "human4_lib3.final_cell_0701 -0.054738 -0.064002 -4.045713e-11 -0.180980   \n",
       "\n",
       "index                          ZSWIM3    ZSWIM4           ZYX            pk  \\\n",
       "index                                                                         \n",
       "human1_lib1.final_cell_0001  2.352397 -1.035320  1.158862e-02 -8.894734e-03   \n",
       "human1_lib1.final_cell_0002 -0.089492 -1.035320  2.523700e-02  6.985599e-03   \n",
       "human1_lib1.final_cell_0003 -0.089492 -1.035320 -2.328602e-02  6.985599e-03   \n",
       "human1_lib1.final_cell_0004 -0.089492 -1.035320  2.794344e-02  6.985599e-03   \n",
       "human1_lib1.final_cell_0005 -0.089492 -1.035320  4.522201e-03 -1.490352e-02   \n",
       "...                               ...       ...           ...           ...   \n",
       "human4_lib3.final_cell_0697 -0.077062 -1.072935 -1.802914e-09 -3.161529e-08   \n",
       "human4_lib3.final_cell_0698 -0.077062 -1.072935 -1.802914e-09 -3.161529e-08   \n",
       "human4_lib3.final_cell_0699 -0.077062 -1.072935 -1.802914e-09 -3.161529e-08   \n",
       "human4_lib3.final_cell_0700 -0.077062 -1.072935 -1.802914e-09 -3.161529e-08   \n",
       "human4_lib3.final_cell_0701 -0.077062 -1.072935 -1.802914e-09 -3.161529e-08   \n",
       "\n",
       "index                                  celltype  \n",
       "index                                            \n",
       "human1_lib1.final_cell_0001              acinar  \n",
       "human1_lib1.final_cell_0002              acinar  \n",
       "human1_lib1.final_cell_0003              acinar  \n",
       "human1_lib1.final_cell_0004              acinar  \n",
       "human1_lib1.final_cell_0005              acinar  \n",
       "...                                         ...  \n",
       "human4_lib3.final_cell_0697  activated_stellate  \n",
       "human4_lib3.final_cell_0698               alpha  \n",
       "human4_lib3.final_cell_0699                beta  \n",
       "human4_lib3.final_cell_0700                beta  \n",
       "human4_lib3.final_cell_0701              ductal  \n",
       "\n",
       "[17124 rows x 3001 columns]"
      ]
     },
     "execution_count": 77,
     "metadata": {},
     "output_type": "execute_result"
    }
   ],
   "source": [
    "train_df = apply_dropout(adata_train.to_df(), adata_train.obs.celltype, 2, 0.85)\n",
    "train_df"
   ]
  },
  {
   "cell_type": "markdown",
   "id": "19928d72-88a1-4c7a-a953-bf4c2aa47c6b",
   "metadata": {},
   "source": [
    "***\n",
    "\n",
    "## Rank ordering of genes"
   ]
  }
 ],
 "metadata": {
  "kernelspec": {
   "display_name": "Python 3 (ipykernel)",
   "language": "python",
   "name": "python3"
  },
  "language_info": {
   "codemirror_mode": {
    "name": "ipython",
    "version": 3
   },
   "file_extension": ".py",
   "mimetype": "text/x-python",
   "name": "python",
   "nbconvert_exporter": "python",
   "pygments_lexer": "ipython3",
   "version": "3.9.12"
  }
 },
 "nbformat": 4,
 "nbformat_minor": 5
}
